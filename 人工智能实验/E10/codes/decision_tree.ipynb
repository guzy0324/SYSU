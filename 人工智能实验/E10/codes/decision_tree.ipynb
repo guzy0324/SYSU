{
 "cells": [
  {
   "cell_type": "code",
   "execution_count": 1,
   "metadata": {},
   "outputs": [],
   "source": [
    "import math\n",
    "import re\n",
    "import random\n",
    "\n",
    "\n",
    "class Example(object):\n",
    "    def __init__(self, attributes, classification, weight = 1.0):\n",
    "        self.attributes = attributes\n",
    "        self.classification = classification\n",
    "        self.weight = weight\n",
    "\n",
    "\n",
    "class Attribute(object):\n",
    "    def __init__(self, name, domain):\n",
    "        self.name = name\n",
    "        self.domain = domain\n",
    "\n",
    "\n",
    "class DecisionTree(object):\n",
    "    def __init__(self, attribute_name):\n",
    "        self.attribute_name = attribute_name\n",
    "        self.branches = dict()\n",
    "\n",
    "    def add_a_branch(self, vk, subtree, weight):\n",
    "        self.branches[vk] = (subtree, weight)\n",
    "\n",
    "\n",
    "def PLURALITY_VALUE(examples):\n",
    "    count = dict()\n",
    "    for example in examples:\n",
    "        classification = example.classification\n",
    "        if count.get(classification) is None:\n",
    "            count[classification] = example.weight\n",
    "        else:\n",
    "            count[classification] += example.weight\n",
    "    return max(count, key=lambda k: count[k]), len(count) == 1\n",
    "\n",
    "\n",
    "def B(q):\n",
    "    if q <= 0 or q >= 1:\n",
    "        return 0.0\n",
    "    return -(q * math.log(q, 2) + (1 - q) * math.log(1 - q, 2))\n",
    "\n",
    "\n",
    "def INFORMATION_COUNT(a, examples):\n",
    "    positive = examples[0].classification\n",
    "    p = 0.0\n",
    "    n = 0.0\n",
    "    pk = dict()\n",
    "    nk = dict()\n",
    "    real_p = 0.0\n",
    "    real_n = 0.0\n",
    "    for value in a.domain:\n",
    "        pk[value] = 0.0\n",
    "        nk[value] = 0.0\n",
    "    for example in examples:\n",
    "        value = example.attributes[a.name]\n",
    "        if positive == example.classification:\n",
    "            real_p += example.weight\n",
    "            if value != '?':\n",
    "                p += example.weight\n",
    "                pk[value] += example.weight\n",
    "        else:\n",
    "            real_n += example.weight\n",
    "            if value != '?':\n",
    "                n += example.weight\n",
    "                nk[value] += example.weight\n",
    "    if p != 0:\n",
    "        t0 = real_p / p\n",
    "    if n != 0:\n",
    "        t1 = real_n / n\n",
    "    for value in a.domain:\n",
    "        if p != 0:\n",
    "            pk[value] *= t0\n",
    "        else:\n",
    "            pk[value] = real_p / len(a.domain)\n",
    "        if n != 0:\n",
    "            nk[value] = nk[value] * t1\n",
    "        else:\n",
    "            nk[value] = real_n / len(a.domain)\n",
    "        nk[value] += pk[value]\n",
    "    return real_p, real_p + real_n, pk, nk\n",
    "\n",
    "\n",
    "def GAIN(a, examples):\n",
    "    p, p_add_n, pk, pk_add_nk = INFORMATION_COUNT(a, examples)\n",
    "    remainder = 0\n",
    "    for value in a.domain:\n",
    "        if pk_add_nk[value] != 0:\n",
    "            remainder += pk_add_nk[value] / p_add_n * B(pk[value] / pk_add_nk[value])\n",
    "    return B(p / p_add_n) - remainder\n",
    "\n",
    "\n",
    "def GAIN_RATIO(a, examples):\n",
    "    p, p_add_n, pk, pk_add_nk = INFORMATION_COUNT(a, examples)\n",
    "    remainder = 0\n",
    "    split_information = 0\n",
    "    for value in a.domain:\n",
    "        if pk_add_nk[value] != 0:\n",
    "            remainder += pk_add_nk[value] / p_add_n * B(pk[value] / pk_add_nk[value])\n",
    "            split_information += B(pk_add_nk[value] / p_add_n)\n",
    "    b = B(p / p_add_n)\n",
    "    if b == 0:\n",
    "        return 0\n",
    "    if split_information == 0:\n",
    "        return float(\"inf\") * (b - remainder)\n",
    "    return (b - remainder) / split_information\n",
    "\n",
    "\n",
    "def CLASSIFICATION_COUNT(classification, examples):\n",
    "    count = 0\n",
    "    for example in examples:\n",
    "        if classification == example.classification:\n",
    "            count += example.weight\n",
    "    return count\n",
    "\n",
    "\n",
    "def WEIGHTING(exs_dict, A, examples):\n",
    "    total_weight = 0\n",
    "    weights = dict()\n",
    "    for vk in A.domain:\n",
    "        exs_dict[vk] = list()\n",
    "        weights[vk] = 0\n",
    "    unknown_list = list()\n",
    "    for e in examples:\n",
    "        A_value = e.attributes[A.name]\n",
    "        if A_value == '?':\n",
    "            unknown_list.append(e)\n",
    "        else:\n",
    "            exs_dict[A_value].append(e)\n",
    "            total_weight += e.weight\n",
    "            weights[A_value] += e.weight\n",
    "    real_weights = {k: v for (k, v) in weights.items()}\n",
    "    for example in unknown_list:\n",
    "        for vk in exs_dict:\n",
    "            if total_weight != 0:\n",
    "                weight = example.weight * weights[vk] / total_weight\n",
    "            else:\n",
    "                weight = example.weight / len(examples)\n",
    "            exs_dict[vk].append(Example(example.attributes, example.classification, weight))\n",
    "    return real_weights\n",
    "\n",
    "\n",
    "def DECISION_TREE_LEARNING(training_examples, attributes, IMPORTANCE, preprune, validating_examples = None, weight = None, split_point = 0.7):\n",
    "    if len(training_examples) == 0 or weight == 0:\n",
    "        return None\n",
    "    plurality_value, same_classification = PLURALITY_VALUE(training_examples)\n",
    "    if same_classification or len(attributes) == 0:\n",
    "        return plurality_value\n",
    "    if preprune is True and validating_examples is None:\n",
    "        random.shuffle(training_examples)\n",
    "        split_point = int(len(training_examples) * split_point)\n",
    "        validating_examples = training_examples[split_point:]\n",
    "        training_examples = training_examples[:split_point]\n",
    "    A = max(attributes, key=lambda a: IMPORTANCE(a, training_examples))\n",
    "    tree = DecisionTree(A.name)\n",
    "    exs_dict = dict()\n",
    "    exs_vali_dict = dict()\n",
    "    weights = WEIGHTING(exs_dict, A, training_examples)\n",
    "    if preprune is True:\n",
    "        last_right = CLASSIFICATION_COUNT(plurality_value, validating_examples)\n",
    "        WEIGHTING(exs_vali_dict, A, validating_examples)\n",
    "        right = 0\n",
    "        for exs in exs_vali_dict.values():\n",
    "            if len(exs) != 0:\n",
    "                right += CLASSIFICATION_COUNT(PLURALITY_VALUE(exs)[0], exs)\n",
    "        if last_right >= right:\n",
    "            return plurality_value\n",
    "    attributes.remove(A)\n",
    "    for vk in A.domain:\n",
    "        subtree = DECISION_TREE_LEARNING(exs_dict[vk], attributes, IMPORTANCE, preprune, exs_vali_dict.get(vk), weights[vk])\n",
    "        if subtree is None:\n",
    "            subtree = plurality_value\n",
    "        tree.add_a_branch(vk, subtree, weights[vk])\n",
    "    attributes.append(A)\n",
    "    return tree\n",
    "\n",
    "\n",
    "def LOAD_ATTRIBUTES(path):\n",
    "    attributes = list()\n",
    "    continuous_indexes = list()\n",
    "    with open(path) as f:\n",
    "        for i in range(0, 96):\n",
    "            f.readline()\n",
    "        for i in range(96, 110):\n",
    "            l = re.findall(r'[^:,\\.\\s]+', f.readline())\n",
    "            if l[1:] == ['continuous']:\n",
    "                continuous_indexes.append(len(attributes))\n",
    "                attributes.append(Attribute(l[0], list()))\n",
    "            else:\n",
    "                attributes.append(Attribute(l[0], l[1:]))\n",
    "    return attributes, continuous_indexes\n",
    "\n",
    "\n",
    "def GAIN_FOR_BI_PARTITION(a_name, mid, examples):\n",
    "    positive = examples[0].classification\n",
    "    p = 0.0\n",
    "    p_add_n = 0.0\n",
    "    pk = {False: 0.0, True: 0.0}\n",
    "    pk_add_nk = {False: 0.0, True: 0.0}\n",
    "    for example in examples:\n",
    "        value = example.attributes[a_name]\n",
    "        p_add_n += example.weight\n",
    "        pk_add_nk[float(value) <= mid] += example.weight\n",
    "        if positive == example.classification:\n",
    "            p += example.weight\n",
    "            pk[float(value) <= mid] += example.weight\n",
    "    remainder = 0\n",
    "    for value in (False, True):\n",
    "        if pk_add_nk[value] != 0:\n",
    "            remainder += pk_add_nk[value] / p_add_n * B(pk[value] / pk_add_nk[value])\n",
    "    return B(p / p_add_n) - remainder\n",
    "\n",
    "\n",
    "def LOAD_TRAINING_EXAMPLES(path, weighting):\n",
    "    training_examples = list()\n",
    "    with open(path) as f:\n",
    "        line = f.readline()\n",
    "        while line != '\\n':\n",
    "            l = re.findall(r'[^,\\s]+', line)\n",
    "            if weighting or '?' not in l:\n",
    "                example = Example({attributes[i].name: l[i] for i in range(len(attributes))}, l[-1])\n",
    "                training_examples.append(example)\n",
    "            line = f.readline()\n",
    "    return training_examples\n",
    "\n",
    "\n",
    "def CONTINUOUS_VALUE_PROCESSING(continuous_indexes, training_examples, attributes, is_bi_partition):\n",
    "    continuous_values = dict()\n",
    "    continuous_mid = dict()\n",
    "    for example in training_examples:\n",
    "        for index in continuous_indexes:\n",
    "            if continuous_values.get(index) is None:\n",
    "                continuous_values[index] = set()\n",
    "            else:\n",
    "                continuous_values[index].add(example.attributes[attributes[index].name])\n",
    "    for index in continuous_indexes:\n",
    "        name = attributes[index].name\n",
    "        continuous_values[index] = list(continuous_values[index])\n",
    "        continuous_values[index].sort()\n",
    "        continuous_mid[index] = list()\n",
    "        for i in range(len(continuous_values[index]) - 1):\n",
    "            continuous_mid[index].append((float(continuous_values[index][i]) + float(continuous_values[index][i + 1])) / 2)\n",
    "        if is_bi_partition is True:\n",
    "            continuous_mid[index] = [max(continuous_mid[index][::int(len(continuous_values[index]) / 1000) + 1], key = lambda mid: GAIN_FOR_BI_PARTITION(name, mid, training_examples))]\n",
    "        for i in range(len(continuous_mid[index]) + 1):\n",
    "            attributes[index].domain.append(str(i))\n",
    "    return continuous_mid\n",
    "\n",
    "\n",
    "def TRAINING_EXAMPLES_UPDATE(training_examples, continuous_indexes, continuous_mid, attributes):\n",
    "    for example in training_examples:\n",
    "        for index in continuous_indexes:\n",
    "            i = 0\n",
    "            while i < len(continuous_mid[index]) and float(example.attributes[attributes[index].name]) > continuous_mid[index][i]:\n",
    "                i += 1\n",
    "            example.attributes[attributes[index].name] = str(i)\n",
    "\n",
    "\n",
    "def DECISION_TREE_PREDICTING(example_attributes, tree):\n",
    "    predict = list()\n",
    "    stack = [(tree, 1)]\n",
    "    while len(stack) > 0:\n",
    "        classification, weight = stack.pop()\n",
    "        if type(classification) == DecisionTree:\n",
    "            for attribute_name in example_attributes:\n",
    "                if attribute_name == classification.attribute_name:\n",
    "                    value = example_attributes[attribute_name]\n",
    "                    if value == '?':\n",
    "                        for new_classification, new_weight in classification.branches.values():\n",
    "                            stack.append((new_classification, weight * new_weight))\n",
    "                    else:\n",
    "                        stack.append((classification.branches[value][0], weight))\n",
    "                    break\n",
    "        else:\n",
    "            predict.append((classification, weight))\n",
    "    return predict\n",
    "\n",
    "\n",
    "def DECISION_TREE_TESTING(path, decision_tree, continuous_indexes, continuous_mid, attributes):\n",
    "    TP = 0.0\n",
    "    FP = 0.0\n",
    "    TN = 0.0\n",
    "    FN = 0.0\n",
    "    positive = None\n",
    "    with open(path) as f:\n",
    "        f.readline()\n",
    "        line = f.readline()\n",
    "        while line != '\\n':\n",
    "            l = re.findall(r'[^,.\\s]+', line)\n",
    "            example_attributes = {attributes[i].name: l[:-1][i] for i in range(len(attributes))}\n",
    "            for index in continuous_indexes:\n",
    "                i = 0\n",
    "                while i < len(continuous_mid[index]) and float(l[index]) > continuous_mid[index][i]:\n",
    "                    i += 1\n",
    "                example_attributes[attributes[index].name] = str(i)\n",
    "            if positive is None:\n",
    "                positive = l[-1]\n",
    "            for classification, weight in DECISION_TREE_PREDICTING(example_attributes, decision_tree):\n",
    "                if l[-1] == positive:\n",
    "                    if classification == positive:\n",
    "                        TP += weight\n",
    "                    else:\n",
    "                        FP += weight\n",
    "                else:\n",
    "                    if classification != positive:\n",
    "                        TN += weight\n",
    "                    else:\n",
    "                        FN += weight\n",
    "            line = f.readline()\n",
    "    accuracy = (TP + TN) / (TP + FP + TN + FN)\n",
    "    precision = TP / (TP + FP)\n",
    "    recall = TP / (TP + FN)\n",
    "    f1_score = 2 * precision * recall / (precision + recall)\n",
    "    print('Accuracy: ', accuracy)\n",
    "    print('Precision: ', precision)\n",
    "    print('Recall: ', recall)\n",
    "    print('F1-score: ', f1_score)"
   ]
  },
  {
   "cell_type": "code",
   "execution_count": 2,
   "metadata": {
    "jupyter": {
     "source_hidden": true
    }
   },
   "outputs": [
    {
     "name": "stdout",
     "output_type": "stream",
     "text": [
      "N-partition without weighting:\n",
      "Wall time: 81.8 ms\n"
     ]
    }
   ],
   "source": [
    "print('N-partition without weighting:')\n",
    "attributes, continuous_indexes = LOAD_ATTRIBUTES(\"adult.names\")\n",
    "training_examples = LOAD_TRAINING_EXAMPLES(\"adult.data\", False)\n",
    "%time continuous_mid = CONTINUOUS_VALUE_PROCESSING(continuous_indexes, training_examples, attributes, False)\n",
    "TRAINING_EXAMPLES_UPDATE(training_examples, continuous_indexes, continuous_mid, attributes)"
   ]
  },
  {
   "cell_type": "code",
   "execution_count": 3,
   "metadata": {
    "jupyter": {
     "source_hidden": true
    }
   },
   "outputs": [
    {
     "name": "stdout",
     "output_type": "stream",
     "text": [
      "ID3:\n",
      "Wall time: 1min 59s\n",
      "Accuracy:  0.5839375996797335\n",
      "Precision:  0.6231022592764139\n",
      "Recall:  0.7799549065922268\n",
      "F1-score:  0.692761031059573\n"
     ]
    }
   ],
   "source": [
    "print('ID3:')\n",
    "%time ID3_tree = DECISION_TREE_LEARNING(training_examples[:], attributes[:], GAIN, False)\n",
    "DECISION_TREE_TESTING('adult.test', ID3_tree, continuous_indexes, continuous_mid, attributes)"
   ]
  },
  {
   "cell_type": "code",
   "execution_count": 4,
   "metadata": {
    "jupyter": {
     "source_hidden": true
    }
   },
   "outputs": [
    {
     "name": "stdout",
     "output_type": "stream",
     "text": [
      "C4.5:\n",
      "Wall time: 2min 17s\n",
      "Accuracy:  0.15849483366607361\n",
      "Precision:  0.5465942887427928\n",
      "Recall:  0.17832970726612066\n",
      "F1-score:  0.26892198366030406\n"
     ]
    }
   ],
   "source": [
    "print('C4.5:')\n",
    "%time C45_tree = DECISION_TREE_LEARNING(training_examples[:], attributes[:], GAIN_RATIO, False)\n",
    "DECISION_TREE_TESTING('adult.test', C45_tree, continuous_indexes, continuous_mid, attributes)"
   ]
  },
  {
   "cell_type": "code",
   "execution_count": 5,
   "metadata": {
    "jupyter": {
     "source_hidden": true
    }
   },
   "outputs": [
    {
     "name": "stdout",
     "output_type": "stream",
     "text": [
      "ID3 with prepruning:\n",
      "Wall time: 375 ms\n",
      "Accuracy:  0.7637737239727289\n",
      "Precision:  1.0\n",
      "Recall:  0.7637737239727289\n",
      "F1-score:  0.8660676974508984\n"
     ]
    }
   ],
   "source": [
    "print('ID3 with prepruning:')\n",
    "%time ID3_prepruning_tree = DECISION_TREE_LEARNING(training_examples[:], attributes[:], GAIN, True)\n",
    "DECISION_TREE_TESTING('adult.test', ID3_prepruning_tree, continuous_indexes, continuous_mid, attributes)"
   ]
  },
  {
   "cell_type": "code",
   "execution_count": 6,
   "metadata": {
    "jupyter": {
     "source_hidden": true
    }
   },
   "outputs": [
    {
     "name": "stdout",
     "output_type": "stream",
     "text": [
      "C4.5 with prepruning:\n",
      "Wall time: 16.7 s\n",
      "Accuracy:  0.7428642183364261\n",
      "Precision:  0.9590141247477724\n",
      "Recall:  0.7521971750106795\n",
      "F1-score:  0.8431077045043348\n"
     ]
    }
   ],
   "source": [
    "print('C4.5 with prepruning:')\n",
    "%time C45_prepruning_tree = DECISION_TREE_LEARNING(training_examples[:], attributes[:], GAIN_RATIO, True)\n",
    "DECISION_TREE_TESTING('adult.test', C45_prepruning_tree, continuous_indexes, continuous_mid, attributes)"
   ]
  },
  {
   "cell_type": "code",
   "execution_count": 7,
   "metadata": {
    "jupyter": {
     "source_hidden": true
    }
   },
   "outputs": [
    {
     "name": "stdout",
     "output_type": "stream",
     "text": [
      "2-partition without weighting:\n",
      "2-partition:\n",
      "Wall time: 41.7 s\n"
     ]
    }
   ],
   "source": [
    "print('2-partition without weighting:')\n",
    "attributes, continuous_indexes = LOAD_ATTRIBUTES(\"adult.names\")\n",
    "training_examples = LOAD_TRAINING_EXAMPLES(\"adult.data\", False)\n",
    "print('2-partition:')\n",
    "%time continuous_mid = CONTINUOUS_VALUE_PROCESSING(continuous_indexes, training_examples, attributes, True)\n",
    "TRAINING_EXAMPLES_UPDATE(training_examples, continuous_indexes, continuous_mid, attributes)"
   ]
  },
  {
   "cell_type": "code",
   "execution_count": 8,
   "metadata": {
    "jupyter": {
     "source_hidden": true
    }
   },
   "outputs": [
    {
     "name": "stdout",
     "output_type": "stream",
     "text": [
      "ID3:\n",
      "Wall time: 2.9 s\n",
      "Accuracy:  0.5136015182591623\n",
      "Precision:  0.584676920793097\n",
      "Recall:  0.7731809037862272\n",
      "F1-score:  0.6658444232654586\n"
     ]
    }
   ],
   "source": [
    "print('ID3:')\n",
    "%time ID3_tree = DECISION_TREE_LEARNING(training_examples[:], attributes[:], GAIN, False)\n",
    "DECISION_TREE_TESTING('adult.test', ID3_tree, continuous_indexes, continuous_mid, attributes)"
   ]
  },
  {
   "cell_type": "code",
   "execution_count": 9,
   "metadata": {
    "jupyter": {
     "source_hidden": true
    }
   },
   "outputs": [
    {
     "name": "stdout",
     "output_type": "stream",
     "text": [
      "C4.5:\n",
      "Wall time: 2.91 s\n",
      "Accuracy:  0.5021240523195487\n",
      "Precision:  0.7365208005180185\n",
      "Recall:  0.3780254915578007\n",
      "F1-score:  0.49961789768249215\n"
     ]
    }
   ],
   "source": [
    "print('C4.5:')\n",
    "%time C45_tree = DECISION_TREE_LEARNING(training_examples[:], attributes[:], GAIN_RATIO, False)\n",
    "DECISION_TREE_TESTING('adult.test', C45_tree, continuous_indexes, continuous_mid, attributes)"
   ]
  },
  {
   "cell_type": "code",
   "execution_count": 10,
   "metadata": {
    "jupyter": {
     "source_hidden": true
    }
   },
   "outputs": [
    {
     "name": "stdout",
     "output_type": "stream",
     "text": [
      "ID3 with prepruning:\n",
      "Wall time: 349 ms\n",
      "Accuracy:  0.7637737239727289\n",
      "Precision:  1.0\n",
      "Recall:  0.7637737239727289\n",
      "F1-score:  0.8660676974508984\n"
     ]
    }
   ],
   "source": [
    "print('ID3 with prepruning:')\n",
    "%time ID3_prepruning_tree = DECISION_TREE_LEARNING(training_examples[:], attributes[:], GAIN, True)\n",
    "DECISION_TREE_TESTING('adult.test', ID3_prepruning_tree, continuous_indexes, continuous_mid, attributes)"
   ]
  },
  {
   "cell_type": "code",
   "execution_count": 11,
   "metadata": {
    "jupyter": {
     "source_hidden": true
    }
   },
   "outputs": [
    {
     "name": "stdout",
     "output_type": "stream",
     "text": [
      "C4.5 with prepruning:\n",
      "Wall time: 844 ms\n",
      "Accuracy:  0.8177968702055846\n",
      "Precision:  0.9934934532894208\n",
      "Recall:  0.81069743051914\n",
      "F1-score:  0.8928352282981411\n"
     ]
    }
   ],
   "source": [
    "print('C4.5 with prepruning:')\n",
    "%time C45_prepruning_tree = DECISION_TREE_LEARNING(training_examples[:], attributes[:], GAIN_RATIO, True)\n",
    "DECISION_TREE_TESTING('adult.test', C45_prepruning_tree, continuous_indexes, continuous_mid, attributes)"
   ]
  },
  {
   "cell_type": "code",
   "execution_count": 12,
   "metadata": {
    "jupyter": {
     "source_hidden": true
    }
   },
   "outputs": [
    {
     "name": "stdout",
     "output_type": "stream",
     "text": [
      "N-partition with weighting:\n",
      "Wall time: 89.8 ms\n"
     ]
    }
   ],
   "source": [
    "print('N-partition with weighting:')\n",
    "attributes, continuous_indexes = LOAD_ATTRIBUTES(\"adult.names\")\n",
    "training_examples = LOAD_TRAINING_EXAMPLES(\"adult.data\", True)\n",
    "%time continuous_mid = CONTINUOUS_VALUE_PROCESSING(continuous_indexes, training_examples, attributes, False)\n",
    "TRAINING_EXAMPLES_UPDATE(training_examples, continuous_indexes, continuous_mid, attributes)"
   ]
  },
  {
   "cell_type": "code",
   "execution_count": 13,
   "metadata": {
    "jupyter": {
     "source_hidden": true
    }
   },
   "outputs": [
    {
     "name": "stdout",
     "output_type": "stream",
     "text": [
      "ID3:\n",
      "Wall time: 3min 26s\n",
      "Accuracy:  0.5952553047444487\n",
      "Precision:  0.677929340817544\n",
      "Recall:  0.7327200875235532\n",
      "F1-score:  0.7042606560621736\n"
     ]
    }
   ],
   "source": [
    "print('ID3:')\n",
    "%time ID3_tree = DECISION_TREE_LEARNING(training_examples[:], attributes[:], GAIN, False)\n",
    "DECISION_TREE_TESTING('adult.test', ID3_tree, continuous_indexes, continuous_mid, attributes)"
   ]
  },
  {
   "cell_type": "code",
   "execution_count": 14,
   "metadata": {
    "jupyter": {
     "source_hidden": true
    }
   },
   "outputs": [
    {
     "name": "stdout",
     "output_type": "stream",
     "text": [
      "C4.5:\n",
      "Wall time: 5min 8s\n",
      "Accuracy:  0.33067559095887333\n",
      "Precision:  0.6179401043819271\n",
      "Recall:  0.39742237104790795\n",
      "F1-score:  0.4837350746985091\n"
     ]
    }
   ],
   "source": [
    "print('C4.5:')\n",
    "%time C45_tree = DECISION_TREE_LEARNING(training_examples[:], attributes[:], GAIN_RATIO, False)\n",
    "DECISION_TREE_TESTING('adult.test', C45_tree, continuous_indexes, continuous_mid, attributes)"
   ]
  },
  {
   "cell_type": "code",
   "execution_count": 15,
   "metadata": {
    "jupyter": {
     "source_hidden": true
    }
   },
   "outputs": [
    {
     "name": "stdout",
     "output_type": "stream",
     "text": [
      "ID3 with prepruning:\n",
      "Wall time: 389 ms\n",
      "Accuracy:  0.7637737239727289\n",
      "Precision:  1.0\n",
      "Recall:  0.7637737239727289\n",
      "F1-score:  0.8660676974508984\n"
     ]
    }
   ],
   "source": [
    "print('ID3 with prepruning:')\n",
    "%time ID3_prepruning_tree = DECISION_TREE_LEARNING(training_examples[:], attributes[:], GAIN, True)\n",
    "DECISION_TREE_TESTING('adult.test', ID3_prepruning_tree, continuous_indexes, continuous_mid, attributes)"
   ]
  },
  {
   "cell_type": "code",
   "execution_count": 16,
   "metadata": {
    "jupyter": {
     "source_hidden": true
    }
   },
   "outputs": [
    {
     "name": "stdout",
     "output_type": "stream",
     "text": [
      "C4.5 with prepruning:\n",
      "Wall time: 2.88 s\n",
      "Accuracy:  0.8234752165100424\n",
      "Precision:  0.9964616003216727\n",
      "Recall:  0.8140726627685435\n",
      "F1-score:  0.8960804165461382\n"
     ]
    }
   ],
   "source": [
    "print('C4.5 with prepruning:')\n",
    "%time C45_prepruning_tree = DECISION_TREE_LEARNING(training_examples[:], attributes[:], GAIN_RATIO, True)\n",
    "DECISION_TREE_TESTING('adult.test', C45_prepruning_tree, continuous_indexes, continuous_mid, attributes)"
   ]
  },
  {
   "cell_type": "code",
   "execution_count": 17,
   "metadata": {
    "jupyter": {
     "source_hidden": true
    }
   },
   "outputs": [
    {
     "name": "stdout",
     "output_type": "stream",
     "text": [
      "2-partition with weighting:\n",
      "Wall time: 43.4 s\n"
     ]
    }
   ],
   "source": [
    "print('2-partition with weighting:')\n",
    "attributes, continuous_indexes = LOAD_ATTRIBUTES(\"adult.names\")\n",
    "training_examples = LOAD_TRAINING_EXAMPLES(\"adult.data\", True)\n",
    "%time continuous_mid = CONTINUOUS_VALUE_PROCESSING(continuous_indexes, training_examples, attributes, True)\n",
    "TRAINING_EXAMPLES_UPDATE(training_examples, continuous_indexes, continuous_mid, attributes)"
   ]
  },
  {
   "cell_type": "code",
   "execution_count": 18,
   "metadata": {
    "jupyter": {
     "source_hidden": true
    }
   },
   "outputs": [
    {
     "name": "stdout",
     "output_type": "stream",
     "text": [
      "ID3:\n",
      "Wall time: 6.01 s\n",
      "Accuracy:  0.47102296372362024\n",
      "Precision:  0.5348233782303043\n",
      "Recall:  0.7571421748930366\n",
      "F1-score:  0.6268546940713602\n"
     ]
    }
   ],
   "source": [
    "print('ID3:')\n",
    "%time ID3_tree = DECISION_TREE_LEARNING(training_examples[:], attributes[:], GAIN, False)\n",
    "DECISION_TREE_TESTING('adult.test', ID3_tree, continuous_indexes, continuous_mid, attributes)"
   ]
  },
  {
   "cell_type": "code",
   "execution_count": 19,
   "metadata": {
    "jupyter": {
     "source_hidden": true
    }
   },
   "outputs": [
    {
     "name": "stdout",
     "output_type": "stream",
     "text": [
      "C4.5:\n",
      "Wall time: 5.05 s\n",
      "Accuracy:  0.578071783195829\n",
      "Precision:  0.7960493912683765\n",
      "Recall:  0.5764327842241698\n",
      "F1-score:  0.6686702023275607\n"
     ]
    }
   ],
   "source": [
    "print('C4.5:')\n",
    "%time C45_tree = DECISION_TREE_LEARNING(training_examples[:], attributes[:], GAIN_RATIO, False)\n",
    "DECISION_TREE_TESTING('adult.test', C45_tree, continuous_indexes, continuous_mid, attributes)"
   ]
  },
  {
   "cell_type": "code",
   "execution_count": 20,
   "metadata": {
    "jupyter": {
     "source_hidden": true
    }
   },
   "outputs": [
    {
     "name": "stdout",
     "output_type": "stream",
     "text": [
      "ID3 with prepruning:\n",
      "Wall time: 365 ms\n",
      "Accuracy:  0.7637737239727289\n",
      "Precision:  1.0\n",
      "Recall:  0.7637737239727289\n",
      "F1-score:  0.8660676974508984\n"
     ]
    }
   ],
   "source": [
    "print('ID3 with prepruning:')\n",
    "%time ID3_prepruning_tree = DECISION_TREE_LEARNING(training_examples[:], attributes[:], GAIN, True)\n",
    "DECISION_TREE_TESTING('adult.test', ID3_prepruning_tree, continuous_indexes, continuous_mid, attributes)"
   ]
  },
  {
   "cell_type": "code",
   "execution_count": 21,
   "metadata": {
    "jupyter": {
     "source_hidden": true
    }
   },
   "outputs": [
    {
     "name": "stdout",
     "output_type": "stream",
     "text": [
      "C4.5 with prepruning:\n",
      "Wall time: 916 ms\n",
      "Accuracy:  0.8181595842250077\n",
      "Precision:  0.9928051802702055\n",
      "Recall:  0.8115402208717245\n",
      "F1-score:  0.8930677405436502\n"
     ]
    }
   ],
   "source": [
    "print('C4.5 with prepruning:')\n",
    "%time C45_prepruning_tree = DECISION_TREE_LEARNING(training_examples[:], attributes[:], GAIN_RATIO, True)\n",
    "DECISION_TREE_TESTING('adult.test', C45_prepruning_tree, continuous_indexes, continuous_mid, attributes)"
   ]
  }
 ],
 "metadata": {
  "kernelspec": {
   "display_name": "Python 3",
   "language": "python",
   "name": "python3"
  },
  "language_info": {
   "codemirror_mode": {
    "name": "ipython",
    "version": 3
   },
   "file_extension": ".py",
   "mimetype": "text/x-python",
   "name": "python",
   "nbconvert_exporter": "python",
   "pygments_lexer": "ipython3",
   "version": "3.8.3"
  }
 },
 "nbformat": 4,
 "nbformat_minor": 4
}
