{
 "cells": [
  {
   "cell_type": "code",
   "execution_count": 1,
   "metadata": {},
   "outputs": [],
   "source": [
    "import cv2\n",
    "import numpy as np\n",
    "import my_seam_carving\n",
    "from tqdm import tqdm"
   ]
  },
  {
   "cell_type": "code",
   "execution_count": 2,
   "metadata": {},
   "outputs": [
    {
     "name": "stderr",
     "output_type": "stream",
     "text": [
      "100%|██████████████████████████████████████████████████████████████████████████████| 1000/1000 [44:25<00:00,  2.67s/it]\n"
     ]
    }
   ],
   "source": [
    "for i in tqdm(range(1, 1001)):\n",
    "    src = cv2.imread('data/imgs/' + str(i) + '.png')\n",
    "    src_h, src_w, _ = src.shape\n",
    "    mask = (cv2.imread('data/gt/' + str(i) + '.png')[:, :, 0] > 0)\n",
    "    temp = (src_h * src_w) - mask.sum() / 2\n",
    "    dst_w = np.sqrt((temp * src_w / src_h)).round().astype(np.uint)\n",
    "    dst_h = np.sqrt((temp * src_h / src_w)).round().astype(np.uint)\n",
    "    my_seam_carving.seam_mask = mask\n",
    "    if i <= 2:\n",
    "        my_seam_carving.record = True\n",
    "    else:\n",
    "        my_seam_carving.record = False\n",
    "    dst = my_seam_carving.resize(\n",
    "        src, (dst_w, dst_h),\n",
    "        energy_mode='forward',\n",
    "        order='optimal-order'\n",
    "    )\n",
    "    cv2.imwrite('data/seam_carving/res/' + str(i) + '.png', dst)\n",
    "    if i <= 2:\n",
    "        my_seam_carving.generate_gif(src, 'data/seam_carving/gif/' + str(i) + '.gif')"
   ]
  }
 ],
 "metadata": {
  "kernelspec": {
   "display_name": "Python 3",
   "language": "python",
   "name": "python3"
  },
  "language_info": {
   "codemirror_mode": {
    "name": "ipython",
    "version": 3
   },
   "file_extension": ".py",
   "mimetype": "text/x-python",
   "name": "python",
   "nbconvert_exporter": "python",
   "pygments_lexer": "ipython3",
   "version": "3.8.3"
  }
 },
 "nbformat": 4,
 "nbformat_minor": 4
}
