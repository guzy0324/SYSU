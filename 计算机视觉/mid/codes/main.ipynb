{
 "cells": [
  {
   "cell_type": "code",
   "execution_count": 1,
   "metadata": {},
   "outputs": [],
   "source": [
    "import cv2\n",
    "import numpy as np\n",
    "import seam_carving\n",
    "import my_seam_carving"
   ]
  },
  {
   "cell_type": "code",
   "execution_count": 2,
   "metadata": {},
   "outputs": [],
   "source": [
    "src = cv2.imread('gibbous.jpg')\n",
    "src_h, src_w, _ = src.shape"
   ]
  },
  {
   "cell_type": "code",
   "execution_count": null,
   "metadata": {},
   "outputs": [],
   "source": [
    "cv2.imwrite('gibbous_cropping.jpg', src[:, 360:1560])\n",
    "cv2.imwrite('gibbous_scaling.jpg', cv2.resize(src, (1200,src_h)))\n",
    "mask = cv2.imread('gibbous_mask.jpg')[:, :, 0]\n",
    "dst = seam_carving.resize(\n",
    "    src, (1200, src_h),\n",
    "    energy_mode='backward',   # Choose from {backward, forward}\n",
    "    order='width-first',  # Choose from {width-first, height-first}\n",
    "    keep_mask=mask\n",
    ")\n",
    "cv2.imwrite('gibbous_seam_carving.jpg', dst)"
   ]
  },
  {
   "cell_type": "code",
   "execution_count": 2,
   "metadata": {},
   "outputs": [
    {
     "data": {
      "text/plain": [
       "True"
      ]
     },
     "execution_count": 2,
     "metadata": {},
     "output_type": "execute_result"
    }
   ],
   "source": [
    "mask = None\n",
    "dst = seam_carving.resize(\n",
    "    src, (1200, src_h),\n",
    "    energy_mode='backward',   # Choose from {backward, forward}\n",
    "    order='width-first',  # Choose from {width-first, height-first}\n",
    "    keep_mask=mask\n",
    ")\n",
    "cv2.imwrite('gibbous_seam_carving_without_mask.jpg', dst)"
   ]
  },
  {
   "cell_type": "code",
   "execution_count": 2,
   "metadata": {},
   "outputs": [
    {
     "data": {
      "text/plain": [
       "True"
      ]
     },
     "execution_count": 2,
     "metadata": {},
     "output_type": "execute_result"
    }
   ],
   "source": [
    "mask = None\n",
    "my_seam_carving.HoG = True\n",
    "dst, idx_map = my_seam_carving.resize(\n",
    "    src, (1200, src_h),\n",
    "    energy_mode='backward',   # Choose from {backward, forward}\n",
    "    order='width-first',  # Choose from {width-first, height-first}\n",
    "    keep_mask=mask\n",
    ")\n",
    "cv2.imwrite('gibbous_seam_carving_eHoG.jpg', dst)"
   ]
  },
  {
   "cell_type": "code",
   "execution_count": 2,
   "metadata": {},
   "outputs": [
    {
     "data": {
      "text/plain": [
       "True"
      ]
     },
     "execution_count": 2,
     "metadata": {},
     "output_type": "execute_result"
    }
   ],
   "source": [
    "src = cv2.imread('cloud.jpg')\n",
    "src_h, src_w, _ = src.shape\n",
    "\n",
    "mask = None\n",
    "my_seam_carving.record = True\n",
    "my_seam_carving.HoG = False\n",
    "dst = my_seam_carving.resize(\n",
    "    src, (180, 120),\n",
    "    energy_mode='backward',   # Choose from {backward, forward}\n",
    "    order='width-first',  # Choose from {width-first, height-first}\n",
    "    keep_mask=mask\n",
    ")\n",
    "cv2.imwrite('cloud_seam_carving.jpg', dst)\n",
    "src[my_seam_carving.seam_records > 0] = [0, 0, 255]\n",
    "cv2.imwrite('cloud_seam_carving_records.jpg', src)"
   ]
  },
  {
   "cell_type": "code",
   "execution_count": 3,
   "metadata": {},
   "outputs": [
    {
     "data": {
      "text/plain": [
       "True"
      ]
     },
     "execution_count": 3,
     "metadata": {},
     "output_type": "execute_result"
    }
   ],
   "source": [
    "src = cv2.imread('cloud.jpg')\n",
    "src_h, src_w, _ = src.shape\n",
    "\n",
    "mask = None\n",
    "my_seam_carving.record = True\n",
    "my_seam_carving.HoG = True\n",
    "dst = my_seam_carving.resize(\n",
    "    src, (180, 120),\n",
    "    energy_mode='backward',   # Choose from {backward, forward}\n",
    "    order='width-first',  # Choose from {width-first, height-first}\n",
    "    keep_mask=mask\n",
    ")\n",
    "cv2.imwrite('cloud_seam_carving_HoG.jpg', dst)\n",
    "src[my_seam_carving.seam_records > 0] = [0, 0, 255]\n",
    "cv2.imwrite('cloud_seam_carving_HoG_records.jpg', src)"
   ]
  },
  {
   "cell_type": "code",
   "execution_count": 3,
   "metadata": {},
   "outputs": [
    {
     "data": {
      "text/plain": [
       "True"
      ]
     },
     "execution_count": 3,
     "metadata": {},
     "output_type": "execute_result"
    }
   ],
   "source": [
    "src = cv2.imread('cloud.jpg')\n",
    "src_h, src_w, _ = src.shape\n",
    "\n",
    "mask = None\n",
    "my_seam_carving.record = True\n",
    "my_seam_carving.HoG = True\n",
    "dst = my_seam_carving.resize(\n",
    "    src, (180, 120),\n",
    "    energy_mode='backward',   # Choose from {backward, forward}\n",
    "    order='width-first',  # Choose from {width-first, height-first}\n",
    "    keep_mask=mask\n",
    ")\n",
    "cv2.imwrite('cloud_seam_carving_HoG.jpg', dst)\n",
    "src[my_seam_carving.seam_records > 0] = [0, 0, 255]\n",
    "cv2.imwrite('cloud_seam_carving_HoG_records.jpg', src)"
   ]
  },
  {
   "cell_type": "code",
   "execution_count": 2,
   "metadata": {},
   "outputs": [
    {
     "name": "stdout",
     "output_type": "stream",
     "text": [
      "Wall time: 22.4 s\n"
     ]
    },
    {
     "data": {
      "text/plain": [
       "True"
      ]
     },
     "execution_count": 2,
     "metadata": {},
     "output_type": "execute_result"
    }
   ],
   "source": [
    "src = cv2.imread('dolphin.jpg')\n",
    "src_h, src_w, _ = src.shape\n",
    "\n",
    "mask = None\n",
    "my_seam_carving.record = True\n",
    "my_seam_carving.HoG = True\n",
    "%time dst = my_seam_carving.resize(src, (src_w / 2, src_h), energy_mode='backward', order='width-first', keep_mask=mask)\n",
    "cv2.imwrite('dolphin_seam_carving.jpg', dst)\n",
    "src[my_seam_carving.seam_records > 0] = [0, 0, 255]\n",
    "cv2.imwrite('dolpin_seam_carving_records.jpg', src)"
   ]
  },
  {
   "cell_type": "code",
   "execution_count": 3,
   "metadata": {},
   "outputs": [
    {
     "name": "stdout",
     "output_type": "stream",
     "text": [
      "Wall time: 8.02 ms\n"
     ]
    },
    {
     "data": {
      "text/plain": [
       "True"
      ]
     },
     "execution_count": 3,
     "metadata": {},
     "output_type": "execute_result"
    }
   ],
   "source": [
    "src = cv2.imread('dolphin.jpg')\n",
    "src_h, src_w, _ = src.shape\n",
    "\n",
    "%time dst = my_seam_carving.resize_as_record(src, (src_w / 2, src_h))\n",
    "cv2.imwrite('dolphin_seam_carving_as_records.jpg', dst)"
   ]
  },
  {
   "cell_type": "code",
   "execution_count": 4,
   "metadata": {},
   "outputs": [
    {
     "data": {
      "text/plain": [
       "True"
      ]
     },
     "execution_count": 4,
     "metadata": {},
     "output_type": "execute_result"
    }
   ],
   "source": [
    "src = cv2.imread('pisa.jpg')\n",
    "src_h, src_w, _ = src.shape\n",
    "\n",
    "mask = None\n",
    "my_seam_carving.record = True\n",
    "my_seam_carving.HoG = False\n",
    "dst = my_seam_carving.resize(\n",
    "    src, (src_w - 100, src_h - 100),\n",
    "    energy_mode='backward',   # Choose from {backward, forward}\n",
    "    order='width-first',  # Choose from {width-first, height-first}\n",
    "    keep_mask=mask\n",
    ")\n",
    "cv2.imwrite('pisa_seam_carving_width_first.jpg', dst)\n",
    "src[my_seam_carving.seam_records > 0] = [0, 0, 255]\n",
    "cv2.imwrite('pisa_seam_carving_width_first_records.jpg', src)"
   ]
  },
  {
   "cell_type": "code",
   "execution_count": 3,
   "metadata": {},
   "outputs": [
    {
     "data": {
      "text/plain": [
       "True"
      ]
     },
     "execution_count": 3,
     "metadata": {},
     "output_type": "execute_result"
    }
   ],
   "source": [
    "src = cv2.imread('pisa.jpg')\n",
    "src_h, src_w, _ = src.shape\n",
    "\n",
    "mask = None\n",
    "my_seam_carving.record = True\n",
    "my_seam_carving.HoG = False\n",
    "dst = my_seam_carving.resize(\n",
    "    src, (src_w - 100, src_h - 100),\n",
    "    energy_mode='backward',   # Choose from {backward, forward}\n",
    "    order='height-first',  # Choose from {width-first, height-first}\n",
    "    keep_mask=mask\n",
    ")\n",
    "cv2.imwrite('pisa_seam_carving_height_first.jpg', dst)\n",
    "src[my_seam_carving.seam_records > 0] = [0, 0, 255]\n",
    "cv2.imwrite('pisa_seam_carving_height_first_records.jpg', src)"
   ]
  },
  {
   "cell_type": "code",
   "execution_count": 2,
   "metadata": {},
   "outputs": [
    {
     "data": {
      "text/plain": [
       "True"
      ]
     },
     "execution_count": 2,
     "metadata": {},
     "output_type": "execute_result"
    }
   ],
   "source": [
    "src = cv2.imread('pisa.jpg')\n",
    "src_h, src_w, _ = src.shape\n",
    "\n",
    "mask = None\n",
    "my_seam_carving.record = True\n",
    "my_seam_carving.HoG = False\n",
    "dst = my_seam_carving.resize(\n",
    "    src, (src_w - 100, src_h - 100),\n",
    "    energy_mode='backward',   # Choose from {backward, forward}\n",
    "    order='optimal-order',  # Choose from {width-first, height-first}\n",
    "    keep_mask=mask\n",
    ")\n",
    "cv2.imwrite('pisa_seam_carving_optimal_order.jpg', dst)\n",
    "src[my_seam_carving.seam_records > 0] = [0, 0, 255]\n",
    "cv2.imwrite('pisa_seam_carving_optimal_order_records.jpg', src)"
   ]
  },
  {
   "cell_type": "code",
   "execution_count": 13,
   "metadata": {},
   "outputs": [
    {
     "data": {
      "text/plain": [
       "True"
      ]
     },
     "execution_count": 13,
     "metadata": {},
     "output_type": "execute_result"
    }
   ],
   "source": [
    "src = cv2.imread('bench.jpg')\n",
    "src_h, src_w, _ = src.shape\n",
    "\n",
    "mask = None\n",
    "my_seam_carving.record = True\n",
    "my_seam_carving.HoG = False\n",
    "dst = my_seam_carving.resize(\n",
    "    src, (src_w - 100, src_h),\n",
    "    energy_mode='backward',   # Choose from {backward, forward}\n",
    "    order='width-first',  # Choose from {width-first, height-first}\n",
    "    keep_mask=mask\n",
    ")\n",
    "cv2.imwrite('bench_seam_carving_backward.jpg', dst)\n",
    "src[my_seam_carving.seam_records > 0] = [0, 0, 255]\n",
    "cv2.imwrite('bench_seam_carving_backward_records.jpg', src)"
   ]
  },
  {
   "cell_type": "code",
   "execution_count": 14,
   "metadata": {},
   "outputs": [
    {
     "data": {
      "text/plain": [
       "True"
      ]
     },
     "execution_count": 14,
     "metadata": {},
     "output_type": "execute_result"
    }
   ],
   "source": [
    "src = cv2.imread('bench.jpg')\n",
    "src_h, src_w, _ = src.shape\n",
    "\n",
    "mask = None\n",
    "my_seam_carving.record = True\n",
    "my_seam_carving.HoG = False\n",
    "dst = my_seam_carving.resize(\n",
    "    src, (src_w - 100, src_h),\n",
    "    energy_mode='forward',   # Choose from {backward, forward}\n",
    "    order='width-first',  # Choose from {width-first, height-first}\n",
    "    keep_mask=mask\n",
    ")\n",
    "cv2.imwrite('bench_seam_carving_forward.jpg', dst)\n",
    "src[my_seam_carving.seam_records > 0] = [0, 0, 255]\n",
    "cv2.imwrite('bench_seam_carving_forward_records.jpg', src)"
   ]
  },
  {
   "cell_type": "code",
   "execution_count": 4,
   "metadata": {},
   "outputs": [
    {
     "data": {
      "text/plain": [
       "True"
      ]
     },
     "execution_count": 4,
     "metadata": {},
     "output_type": "execute_result"
    }
   ],
   "source": [
    "src = cv2.imread('stonehenge.jpg')\n",
    "src_h, src_w, _ = src.shape\n",
    "\n",
    "mask = None\n",
    "my_seam_carving.record = False\n",
    "my_seam_carving.HoG = False\n",
    "dst = my_seam_carving.resize(\n",
    "    src, (src_w, src_h + 200),\n",
    "    energy_mode='backward',   # Choose from {backward, forward}\n",
    "    order='width-first',  # Choose from {width-first, height-first}\n",
    "    keep_mask=mask\n",
    ")\n",
    "cv2.imwrite('stonehenge_enlarge.jpg', dst)"
   ]
  },
  {
   "cell_type": "code",
   "execution_count": 9,
   "metadata": {},
   "outputs": [
    {
     "data": {
      "text/plain": [
       "True"
      ]
     },
     "execution_count": 9,
     "metadata": {},
     "output_type": "execute_result"
    }
   ],
   "source": [
    "src = cv2.imread('gibbous.jpg')\n",
    "src_h, src_w, _ = src.shape\n",
    "\n",
    "drop_mask = ~cv2.imread('gibbous_drop_mask.png')[:,:,0]\n",
    "keep_mask = cv2.imread('gibbous_keep_mask.png')[:,:,0]\n",
    "my_seam_carving.record = False\n",
    "my_seam_carving.HoG = False\n",
    "dst=my_seam_carving.remove_object(src=src, drop_mask=keep_mask)\n",
    "cv2.imwrite('gibbous_removal.jpg', dst)"
   ]
  },
  {
   "cell_type": "code",
   "execution_count": 15,
   "metadata": {},
   "outputs": [
    {
     "data": {
      "text/plain": [
       "True"
      ]
     },
     "execution_count": 15,
     "metadata": {},
     "output_type": "execute_result"
    }
   ],
   "source": [
    "src = cv2.imread('liberty.jpg')\n",
    "src_h, src_w, _ = src.shape\n",
    "\n",
    "drop_mask = cv2.imread('liberty_mask.jpg')[:,:,0]\n",
    "my_seam_carving.record = False\n",
    "my_seam_carving.HoG = False\n",
    "dst=my_seam_carving.remove_object(src=src, drop_mask=drop_mask)\n",
    "cv2.imwrite('liberty_removal.jpg', dst)"
   ]
  }
 ],
 "metadata": {
  "kernelspec": {
   "display_name": "Python 3",
   "language": "python",
   "name": "python3"
  },
  "language_info": {
   "codemirror_mode": {
    "name": "ipython",
    "version": 3
   },
   "file_extension": ".py",
   "mimetype": "text/x-python",
   "name": "python",
   "nbconvert_exporter": "python",
   "pygments_lexer": "ipython3",
   "version": "3.8.3"
  }
 },
 "nbformat": 4,
 "nbformat_minor": 4
}
