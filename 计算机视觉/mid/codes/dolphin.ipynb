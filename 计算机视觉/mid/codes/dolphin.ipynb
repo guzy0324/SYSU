{
 "cells": [
  {
   "cell_type": "code",
   "execution_count": 1,
   "metadata": {},
   "outputs": [],
   "source": [
    "import cv2\n",
    "import numpy as np\n",
    "import seam_carving\n",
    "import my_seam_carving"
   ]
  },
  {
   "cell_type": "code",
   "execution_count": 2,
   "metadata": {},
   "outputs": [
    {
     "name": "stdout",
     "output_type": "stream",
     "text": [
      "Wall time: 22.4 s\n"
     ]
    },
    {
     "data": {
      "text/plain": [
       "True"
      ]
     },
     "execution_count": 2,
     "metadata": {},
     "output_type": "execute_result"
    }
   ],
   "source": [
    "src = cv2.imread('dolphin.jpg')\n",
    "src_h, src_w, _ = src.shape\n",
    "\n",
    "mask = None\n",
    "my_seam_carving.record = True\n",
    "my_seam_carving.HoG = True\n",
    "%time dst = my_seam_carving.resize(src, (src_w / 2, src_h), energy_mode='backward', order='width-first', keep_mask=mask)\n",
    "cv2.imwrite('dolphin_seam_carving.jpg', dst)\n",
    "src[my_seam_carving.seam_records > 0] = [0, 0, 255]\n",
    "cv2.imwrite('dolpin_seam_carving_records.jpg', src)"
   ]
  },
  {
   "cell_type": "code",
   "execution_count": 3,
   "metadata": {},
   "outputs": [
    {
     "name": "stdout",
     "output_type": "stream",
     "text": [
      "Wall time: 8.02 ms\n"
     ]
    },
    {
     "data": {
      "text/plain": [
       "True"
      ]
     },
     "execution_count": 3,
     "metadata": {},
     "output_type": "execute_result"
    }
   ],
   "source": [
    "src = cv2.imread('dolphin.jpg')\n",
    "src_h, src_w, _ = src.shape\n",
    "\n",
    "%time dst = my_seam_carving.resize_as_record(src, (src_w / 2, src_h))\n",
    "cv2.imwrite('dolphin_seam_carving_as_records.jpg', dst)"
   ]
  }
 ],
 "metadata": {
  "kernelspec": {
   "display_name": "Python 3",
   "language": "python",
   "name": "python3"
  },
  "language_info": {
   "codemirror_mode": {
    "name": "ipython",
    "version": 3
   },
   "file_extension": ".py",
   "mimetype": "text/x-python",
   "name": "python",
   "nbconvert_exporter": "python",
   "pygments_lexer": "ipython3",
   "version": "3.8.3"
  }
 },
 "nbformat": 4,
 "nbformat_minor": 4
}
