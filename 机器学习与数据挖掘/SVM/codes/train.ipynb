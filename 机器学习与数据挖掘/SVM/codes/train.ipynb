{
 "cells": [
  {
   "cell_type": "code",
   "execution_count": 1,
   "metadata": {},
   "outputs": [],
   "source": [
    "import numpy as np\n",
    "import pandas as pd\n",
    "from sklearn.model_selection import cross_validate\n",
    "from sklearn.svm import SVC\n",
    "from sklearn.multioutput import MultiOutputClassifier"
   ]
  },
  {
   "cell_type": "code",
   "execution_count": 2,
   "metadata": {},
   "outputs": [],
   "source": [
    "C = 1\n",
    "kernel = 'rbf'\n",
    "\n",
    "model = MultiOutputClassifier(SVC(C=C, kernel=kernel), n_jobs=4)"
   ]
  },
  {
   "cell_type": "code",
   "execution_count": 12,
   "metadata": {},
   "outputs": [],
   "source": [
    "def test_a():\n",
    "    dataset = pd.read_csv('feature_dataset_' + str(k) + '.csv')\n",
    "    Y = np.array(dataset.iloc[1:, 1:5])\n",
    "    X = np.array(dataset.iloc[1:, 5:])\n",
    "    score = cross_validate(estimator=model, X=X, y=Y, cv=cv, return_train_score=True)\n",
    "    print(score['train_score'])\n",
    "    print(score['test_score'])\n",
    "\n",
    "def test_b():\n",
    "    dataset = pd.read_csv('PCA_dataset_' + str(k) + '_' + str(n_components) + '.csv')\n",
    "    Y = np.array(dataset.iloc[1:, 1:5])\n",
    "    X = np.array(dataset.iloc[1:, 5:])\n",
    "    score = cross_validate(estimator=model, X=X, y=Y, cv=cv, return_train_score=True)\n",
    "    print(score['train_score'])\n",
    "    print(score['test_score'])"
   ]
  },
  {
   "cell_type": "code",
   "execution_count": 9,
   "metadata": {},
   "outputs": [
    {
     "name": "stdout",
     "output_type": "stream",
     "text": [
      "[0.61464188 0.60858913 0.60729212 0.6126243  0.61239193]\n",
      "[0.56945245 0.56945245 0.59365994 0.57233429 0.56632065]\n",
      "[0.73987606 0.73843493 0.73901138 0.74232598 0.74524496]\n",
      "[0.57925072 0.59423631 0.60115274 0.5832853  0.58823529]\n"
     ]
    }
   ],
   "source": [
    "k = 512\n",
    "n_components = 256\n",
    "cv = 5\n",
    "test_a()\n",
    "test_b()"
   ]
  },
  {
   "cell_type": "code",
   "execution_count": 6,
   "metadata": {},
   "outputs": [
    {
     "name": "stdout",
     "output_type": "stream",
     "text": [
      "[0.63294423 0.62775616 0.62746793 0.63035019 0.63270893]\n",
      "[0.57291066 0.57463977 0.6074928  0.57002882 0.56055363]\n",
      "[0.77489552 0.77215737 0.77086035 0.77619253 0.77694524]\n",
      "[0.58270893 0.59308357 0.60691643 0.58213256 0.58189158]\n"
     ]
    }
   ],
   "source": [
    "k = 1024\n",
    "n_components = 512\n",
    "cv = 5\n",
    "test_a()\n",
    "test_b()"
   ]
  },
  {
   "cell_type": "code",
   "execution_count": 4,
   "metadata": {},
   "outputs": [
    {
     "name": "stdout",
     "output_type": "stream",
     "text": [
      "[0.65225537 0.65167892 0.64649085 0.65225537 0.65273775]\n",
      "[0.58443804 0.57002882 0.60864553 0.57982709 0.55767013]\n",
      "[0.79997118 0.80285344 0.79953884 0.80415045 0.80634006]\n",
      "[0.6        0.59596542 0.61440922 0.59135447 0.57958478]\n"
     ]
    }
   ],
   "source": [
    "k = 2048\n",
    "n_components = 1024\n",
    "cv = 5\n",
    "test_a()\n",
    "test_b()"
   ]
  },
  {
   "cell_type": "code",
   "execution_count": 5,
   "metadata": {},
   "outputs": [
    {
     "name": "stdout",
     "output_type": "stream",
     "text": [
      "[0.65960513 0.66104626 0.65801989 0.66508142 0.66311239]\n",
      "[0.58443804 0.56829971 0.59711816 0.57809798 0.55767013]\n",
      "[0.81596772 0.82230869 0.81827353 0.81985877 0.8221902 ]\n",
      "[0.59596542 0.58962536 0.6092219  0.58559078 0.57554787]\n"
     ]
    }
   ],
   "source": [
    "k = 4096\n",
    "n_components = 1024\n",
    "cv = 5\n",
    "test_a()\n",
    "test_b()"
   ]
  },
  {
   "cell_type": "code",
   "execution_count": 8,
   "metadata": {},
   "outputs": [
    {
     "name": "stdout",
     "output_type": "stream",
     "text": [
      "[0.68597781 0.68684248 0.68424845 0.69073354 0.69279539]\n",
      "[0.58270893 0.56253602 0.6        0.58097983 0.55594002]\n",
      "[0.82922611 0.8312437  0.82634385 0.83009079 0.83429395]\n",
      "[0.59135447 0.58559078 0.60864553 0.57867435 0.56459054]\n"
     ]
    }
   ],
   "source": [
    "k = 8192\n",
    "n_components = 1024\n",
    "cv = 5\n",
    "test_a()\n",
    "test_b()"
   ]
  },
  {
   "cell_type": "code",
   "execution_count": 13,
   "metadata": {},
   "outputs": [
    {
     "name": "stdout",
     "output_type": "stream",
     "text": [
      "[0.80342989 0.80660037 0.80487102 0.81005909 0.81080692]\n",
      "[0.59942363 0.5925072  0.61268012 0.59020173 0.57958478]\n"
     ]
    }
   ],
   "source": [
    "k = 2048\n",
    "n_components = 2048\n",
    "cv = 5\n",
    "test_b()"
   ]
  },
  {
   "cell_type": "code",
   "execution_count": 14,
   "metadata": {},
   "outputs": [
    {
     "name": "stdout",
     "output_type": "stream",
     "text": [
      "[0.78714512 0.79074795 0.78498343 0.79118029 0.79293948]\n",
      "[0.59884726 0.5925072  0.60979827 0.59135447 0.58419839]\n"
     ]
    }
   ],
   "source": [
    "k = 2048\n",
    "n_components = 512\n",
    "cv = 5\n",
    "test_b()"
   ]
  },
  {
   "cell_type": "code",
   "execution_count": 15,
   "metadata": {},
   "outputs": [
    {
     "name": "stdout",
     "output_type": "stream",
     "text": [
      "[0.43594178 0.4284479  0.41807177 0.42628621 0.43487032]\n",
      "[0.41152738 0.39654179 0.42247839 0.41037464 0.40253749]\n"
     ]
    }
   ],
   "source": [
    "k = 2048\n",
    "n_components = 1024\n",
    "cv = 5\n",
    "C = 0.1\n",
    "kernel = 'rbf'\n",
    "\n",
    "model = MultiOutputClassifier(SVC(C=C, kernel=kernel), n_jobs=4)\n",
    "test_b()"
   ]
  },
  {
   "cell_type": "code",
   "execution_count": 16,
   "metadata": {},
   "outputs": [
    {
     "name": "stdout",
     "output_type": "stream",
     "text": [
      "[0.99870298 0.99855887 0.99841476 0.99841476 0.9981268 ]\n",
      "[0.5907781  0.60172911 0.5925072  0.57694524 0.57843137]\n"
     ]
    }
   ],
   "source": [
    "C = 10\n",
    "kernel = 'rbf'\n",
    "\n",
    "model = MultiOutputClassifier(SVC(C=C, kernel=kernel), n_jobs=4)\n",
    "test_b()"
   ]
  },
  {
   "cell_type": "code",
   "execution_count": 17,
   "metadata": {},
   "outputs": [
    {
     "name": "stdout",
     "output_type": "stream",
     "text": [
      "[0.98155354 0.98198588 0.98270644 0.9822741  0.98184438]\n",
      "[0.59711816 0.60230548 0.60288184 0.5907781  0.58823529]\n"
     ]
    }
   ],
   "source": [
    "C = 5\n",
    "kernel = 'rbf'\n",
    "\n",
    "model = MultiOutputClassifier(SVC(C=C, kernel=kernel), n_jobs=4)\n",
    "test_b()"
   ]
  },
  {
   "cell_type": "code",
   "execution_count": 18,
   "metadata": {},
   "outputs": [
    {
     "name": "stdout",
     "output_type": "stream",
     "text": [
      "[0.89825623 0.89580631 0.89724744 0.90099438 0.90360231]\n",
      "[0.60461095 0.60518732 0.61440922 0.60461095 0.59342561]\n"
     ]
    }
   ],
   "source": [
    "C = 2\n",
    "kernel = 'rbf'\n",
    "\n",
    "model = MultiOutputClassifier(SVC(C=C, kernel=kernel), n_jobs=4)\n",
    "test_b()"
   ]
  },
  {
   "cell_type": "code",
   "execution_count": 19,
   "metadata": {},
   "outputs": [
    {
     "name": "stdout",
     "output_type": "stream",
     "text": [
      "[0.94610174 0.94249892 0.94235481 0.94365182 0.94567723]\n",
      "[0.60345821 0.60634006 0.60864553 0.60115274 0.58823529]\n"
     ]
    }
   ],
   "source": [
    "C = 3\n",
    "kernel = 'rbf'\n",
    "\n",
    "model = MultiOutputClassifier(SVC(C=C, kernel=kernel), n_jobs=4)\n",
    "test_b()"
   ]
  },
  {
   "cell_type": "code",
   "execution_count": 20,
   "metadata": {},
   "outputs": [
    {
     "name": "stdout",
     "output_type": "stream",
     "text": [
      "[0.92693472 0.92347601 0.92419657 0.92520536 0.92925072]\n",
      "[0.60115274 0.60634006 0.61268012 0.60288184 0.5922722 ]\n"
     ]
    }
   ],
   "source": [
    "C = 2.5\n",
    "kernel = 'rbf'\n",
    "\n",
    "model = MultiOutputClassifier(SVC(C=C, kernel=kernel), n_jobs=4)\n",
    "test_b()"
   ]
  },
  {
   "cell_type": "code",
   "execution_count": 21,
   "metadata": {},
   "outputs": [
    {
     "name": "stdout",
     "output_type": "stream",
     "text": [
      "[0.85833694 0.85934573 0.85992218 0.86338089 0.86311239]\n",
      "[0.60403458 0.59827089 0.6184438  0.60057637 0.59515571]\n"
     ]
    }
   ],
   "source": [
    "C = 1.5\n",
    "kernel = 'rbf'\n",
    "\n",
    "model = MultiOutputClassifier(SVC(C=C, kernel=kernel), n_jobs=4)\n",
    "test_b()"
   ]
  },
  {
   "cell_type": "code",
   "execution_count": 22,
   "metadata": {},
   "outputs": [
    {
     "name": "stdout",
     "output_type": "stream",
     "text": [
      "[0.8834126  0.88053034 0.88427727 0.88586252 0.88919308]\n",
      "[0.60461095 0.60634006 0.6184438  0.60288184 0.59400231]\n"
     ]
    }
   ],
   "source": [
    "C = 1.8\n",
    "kernel = 'rbf'\n",
    "\n",
    "model = MultiOutputClassifier(SVC(C=C, kernel=kernel), n_jobs=4)\n",
    "test_b()"
   ]
  },
  {
   "cell_type": "code",
   "execution_count": 23,
   "metadata": {},
   "outputs": [
    {
     "name": "stdout",
     "output_type": "stream",
     "text": [
      "[0.87476582 0.87246001 0.87606283 0.87908921 0.88054755]\n",
      "[0.60461095 0.60403458 0.61959654 0.60288184 0.59457901]\n"
     ]
    }
   ],
   "source": [
    "C = 1.7\n",
    "kernel = 'rbf'\n",
    "\n",
    "model = MultiOutputClassifier(SVC(C=C, kernel=kernel), n_jobs=4)\n",
    "test_b()"
   ]
  },
  {
   "cell_type": "code",
   "execution_count": 24,
   "metadata": {},
   "outputs": [
    {
     "name": "stdout",
     "output_type": "stream",
     "text": [
      "[0.88989768 0.88759187 0.89162704 0.89292405 0.89697406]\n",
      "[0.60461095 0.60691643 0.61613833 0.60461095 0.59342561]\n"
     ]
    }
   ],
   "source": [
    "C = 1.9\n",
    "kernel = 'rbf'\n",
    "\n",
    "model = MultiOutputClassifier(SVC(C=C, kernel=kernel), n_jobs=4)\n",
    "test_b()"
   ]
  },
  {
   "cell_type": "code",
   "execution_count": 25,
   "metadata": {},
   "outputs": [
    {
     "name": "stdout",
     "output_type": "stream",
     "text": [
      "[0.57515492 0.56924629 0.57068742 0.57529903 0.57622478]\n",
      "[0.55216138 0.54409222 0.57752161 0.55100865 0.52364475]\n"
     ]
    }
   ],
   "source": [
    "C = 1.8\n",
    "kernel = 'linear'\n",
    "\n",
    "model = MultiOutputClassifier(SVC(C=C, kernel=kernel), n_jobs=4)\n",
    "test_b()"
   ]
  },
  {
   "cell_type": "code",
   "execution_count": 26,
   "metadata": {},
   "outputs": [
    {
     "name": "stdout",
     "output_type": "stream",
     "text": [
      "[0.78628044 0.78455109 0.78094826 0.78743335 0.78674352]\n",
      "[0.45878963 0.44899135 0.47089337 0.45129683 0.42675894]\n"
     ]
    }
   ],
   "source": [
    "C = 1.8\n",
    "kernel = 'poly'\n",
    "\n",
    "model = MultiOutputClassifier(SVC(C=C, kernel=kernel), n_jobs=4)\n",
    "test_b()"
   ]
  },
  {
   "cell_type": "code",
   "execution_count": 27,
   "metadata": {},
   "outputs": [
    {
     "name": "stdout",
     "output_type": "stream",
     "text": [
      "[0.36979392 0.3651823  0.36143537 0.37483787 0.37002882]\n",
      "[0.34005764 0.34870317 0.37060519 0.3481268  0.34083045]\n"
     ]
    }
   ],
   "source": [
    "C = 1.8\n",
    "kernel = 'sigmoid'\n",
    "\n",
    "model = MultiOutputClassifier(SVC(C=C, kernel=kernel), n_jobs=4)\n",
    "test_b()"
   ]
  }
 ],
 "metadata": {
  "kernelspec": {
   "display_name": "Python 3",
   "language": "python",
   "name": "python3"
  },
  "language_info": {
   "codemirror_mode": {
    "name": "ipython",
    "version": 3
   },
   "file_extension": ".py",
   "mimetype": "text/x-python",
   "name": "python",
   "nbconvert_exporter": "python",
   "pygments_lexer": "ipython3",
   "version": "3.8.3"
  }
 },
 "nbformat": 4,
 "nbformat_minor": 4
}
