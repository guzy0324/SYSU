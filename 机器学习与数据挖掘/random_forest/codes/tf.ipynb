{
 "cells": [
  {
   "cell_type": "code",
   "execution_count": 1,
   "metadata": {},
   "outputs": [],
   "source": [
    "import numpy as np\n",
    "import pandas as pd\n",
    "from sklearn.feature_extraction.text import CountVectorizer\n",
    "from sklearn.feature_extraction.text import TfidfTransformer\n",
    "from sklearn.feature_selection import SelectKBest\n",
    "from sklearn.feature_selection import chi2\n",
    "from sklearn.decomposition import PCA"
   ]
  },
  {
   "cell_type": "code",
   "execution_count": 2,
   "metadata": {},
   "outputs": [],
   "source": [
    "t2idx = [{'I': 0, 'E': 1}, {'N': 0, 'S': 1}, {'T': 0, 'F': 1}, {'J': 0, 'P': 1}]\n",
    "\n",
    "dataset = pd.read_csv('mbti_1.csv')\n",
    "posts = list()\n",
    "types = list()\n",
    "for i, post in enumerate(dataset['posts']):\n",
    "    posts.append(post[1:-1].replace('|||', ' '))\n",
    "    types.append([t2idx[j][dataset['type'][i][j]] for j in range(4)])\n",
    "\n",
    "Y = np.array(types)"
   ]
  },
  {
   "cell_type": "code",
   "execution_count": 9,
   "metadata": {},
   "outputs": [],
   "source": [
    "count_vectorizer = CountVectorizer(min_df=0.05, max_df=0.8, token_pattern='\\\\b\\\\w+\\\\b')\n",
    "counts = count_vectorizer.fit_transform(posts)\n",
    "feature_names = count_vectorizer.get_feature_names()"
   ]
  },
  {
   "cell_type": "code",
   "execution_count": 10,
   "metadata": {},
   "outputs": [],
   "source": [
    "feature_selection = SelectKBest(chi2)\n",
    "feature_selection.fit(counts.toarray(), Y)\n",
    "feature_name_score = pd.DataFrame()\n",
    "feature_name_score['name'] = feature_names\n",
    "feature_name_score['score'] = feature_selection.scores_\n",
    "feature_name_score.sort_values(by='score', ascending=False).to_csv('tf_name_score.csv')"
   ]
  },
  {
   "cell_type": "code",
   "execution_count": 11,
   "metadata": {},
   "outputs": [],
   "source": [
    "k = 512\n",
    "\n",
    "feature_selection.set_params(k=k)\n",
    "X = feature_selection.transform(counts.toarray())\n",
    "feature_dataset = pd.DataFrame()\n",
    "for i in range(4):\n",
    "    feature_dataset['Y' + str(i)] = Y[:, i]\n",
    "for i in range(k):\n",
    "    feature_dataset['X' + str(i)] = X[:, i]\n",
    "feature_dataset.to_csv('tf_dataset_' + str(k) + '.csv')"
   ]
  },
  {
   "cell_type": "code",
   "execution_count": 12,
   "metadata": {},
   "outputs": [],
   "source": [
    "k = 1024\n",
    "\n",
    "feature_selection.set_params(k=k)\n",
    "X = feature_selection.transform(counts.toarray())\n",
    "feature_dataset = pd.DataFrame()\n",
    "for i in range(4):\n",
    "    feature_dataset['Y' + str(i)] = Y[:, i]\n",
    "for i in range(k):\n",
    "    feature_dataset['X' + str(i)] = X[:, i]\n",
    "feature_dataset.to_csv('tf_dataset_' + str(k) + '.csv')"
   ]
  }
 ],
 "metadata": {
  "kernelspec": {
   "display_name": "Python 3",
   "language": "python",
   "name": "python3"
  },
  "language_info": {
   "codemirror_mode": {
    "name": "ipython",
    "version": 3
   },
   "file_extension": ".py",
   "mimetype": "text/x-python",
   "name": "python",
   "nbconvert_exporter": "python",
   "pygments_lexer": "ipython3",
   "version": "3.8.3"
  }
 },
 "nbformat": 4,
 "nbformat_minor": 4
}
