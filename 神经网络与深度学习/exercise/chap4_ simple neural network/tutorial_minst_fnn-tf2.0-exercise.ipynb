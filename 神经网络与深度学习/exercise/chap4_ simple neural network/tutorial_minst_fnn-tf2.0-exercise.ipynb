{
 "cells": [
  {
   "cell_type": "markdown",
   "metadata": {},
   "source": [
    "## 准备数据"
   ]
  },
  {
   "cell_type": "code",
   "execution_count": 1,
   "metadata": {},
   "outputs": [],
   "source": [
    "import os\n",
    "import numpy as np\n",
    "import tensorflow as tf\n",
    "from tensorflow import keras\n",
    "from tensorflow.keras import layers, optimizers, datasets\n",
    "\n",
    "os.environ['TF_CPP_MIN_LOG_LEVEL'] = '2'  # or any {'0', '1', '2'}\n",
    "\n",
    "def mnist_dataset():\n",
    "    (x, y), (x_test, y_test) = datasets.mnist.load_data()\n",
    "    #normalize\n",
    "    x = x/255.0\n",
    "    x_test = x_test/255.0\n",
    "    \n",
    "    return (x, y), (x_test, y_test)"
   ]
  },
  {
   "cell_type": "code",
   "execution_count": 2,
   "metadata": {},
   "outputs": [
    {
     "name": "stdout",
     "output_type": "stream",
     "text": [
      "[(1, 'a'), (2, 'b'), (3, 'c'), (4, 'd')]\n"
     ]
    }
   ],
   "source": [
    "print(list(zip([1, 2, 3, 4], ['a', 'b', 'c', 'd'])))"
   ]
  },
  {
   "cell_type": "markdown",
   "metadata": {},
   "source": [
    "## 建立模型"
   ]
  },
  {
   "cell_type": "code",
   "execution_count": 3,
   "metadata": {},
   "outputs": [],
   "source": [
    "class myModel:\n",
    "    def __init__(self):\n",
    "        ####################\n",
    "        '''声明模型对应的参数'''\n",
    "        self.W1 = tf.Variable(tf.random.uniform(shape=[28*28, 100], minval=-0.1, maxval=0.1))\n",
    "        self.b1 = tf.Variable(tf.zeros(shape=[100]))\n",
    "        self.W2 = tf.Variable(tf.random.uniform(shape=[100, 10], minval=-0.1, maxval=0.1))\n",
    "        self.b2 = tf.Variable(tf.zeros(shape=[10]))\n",
    "        ####################\n",
    "    def __call__(self, x):\n",
    "        ####################\n",
    "        '''实现模型函数体，返回未归一化的logits'''\n",
    "        x = tf.reshape(x, (-1, 28*28))\n",
    "        h1 = tf.nn.tanh(x @ self.W1 + self.b1)\n",
    "        logits = h1 @ self.W2 + self.b2\n",
    "        ####################\n",
    "        return logits\n",
    "        \n",
    "model = myModel()\n",
    "\n",
    "optimizer = optimizers.Adam()"
   ]
  },
  {
   "cell_type": "markdown",
   "metadata": {},
   "source": [
    "## 计算 loss"
   ]
  },
  {
   "cell_type": "code",
   "execution_count": 4,
   "metadata": {},
   "outputs": [],
   "source": [
    "@tf.function\n",
    "def compute_loss(logits, labels):\n",
    "    return tf.reduce_mean(\n",
    "        tf.nn.sparse_softmax_cross_entropy_with_logits(\n",
    "            logits=logits, labels=labels))\n",
    "\n",
    "@tf.function\n",
    "def compute_accuracy(logits, labels):\n",
    "    predictions = tf.argmax(logits, axis=1)\n",
    "    return tf.reduce_mean(tf.cast(tf.equal(predictions, labels), tf.float32))\n",
    "\n",
    "@tf.function\n",
    "def train_one_step(model, optimizer, x, y):\n",
    "    with tf.GradientTape() as tape:\n",
    "        logits = model(x)\n",
    "        loss = compute_loss(logits, y)\n",
    "\n",
    "    # compute gradient\n",
    "    trainable_vars = [model.W1, model.W2, model.b1, model.b2]\n",
    "    grads = tape.gradient(loss, trainable_vars)\n",
    "    for g, v in zip(grads, trainable_vars):\n",
    "        v.assign_sub(0.01*g)\n",
    "\n",
    "    accuracy = compute_accuracy(logits, y)\n",
    "\n",
    "    # loss and accuracy is scalar tensor\n",
    "    return loss, accuracy\n",
    "\n",
    "@tf.function\n",
    "def test(model, x, y):\n",
    "    logits = model(x)\n",
    "    loss = compute_loss(logits, y)\n",
    "    accuracy = compute_accuracy(logits, y)\n",
    "    return loss, accuracy"
   ]
  },
  {
   "cell_type": "markdown",
   "metadata": {},
   "source": [
    "## 实际训练"
   ]
  },
  {
   "cell_type": "code",
   "execution_count": 6,
   "metadata": {},
   "outputs": [
    {
     "name": "stdout",
     "output_type": "stream",
     "text": [
      "epoch 0 : loss 2.04986 ; accuracy 0.46481666\n",
      "epoch 1 : loss 2.045468 ; accuracy 0.4712\n",
      "epoch 2 : loss 2.0410898 ; accuracy 0.47731668\n",
      "epoch 3 : loss 2.0367253 ; accuracy 0.48283333\n",
      "epoch 4 : loss 2.0323744 ; accuracy 0.48798335\n",
      "epoch 5 : loss 2.028036 ; accuracy 0.49345\n",
      "epoch 6 : loss 2.0237107 ; accuracy 0.49838334\n",
      "epoch 7 : loss 2.019398 ; accuracy 0.5037\n",
      "epoch 8 : loss 2.015097 ; accuracy 0.5084\n",
      "epoch 9 : loss 2.0108082 ; accuracy 0.5133833\n",
      "epoch 10 : loss 2.006531 ; accuracy 0.5174\n",
      "epoch 11 : loss 2.002265 ; accuracy 0.52178335\n",
      "epoch 12 : loss 1.9980104 ; accuracy 0.52613336\n",
      "epoch 13 : loss 1.9937668 ; accuracy 0.53078336\n",
      "epoch 14 : loss 1.9895339 ; accuracy 0.5349\n",
      "epoch 15 : loss 1.9853115 ; accuracy 0.53945\n",
      "epoch 16 : loss 1.9810992 ; accuracy 0.5432\n",
      "epoch 17 : loss 1.9768974 ; accuracy 0.54715\n",
      "epoch 18 : loss 1.9727054 ; accuracy 0.5510833\n",
      "epoch 19 : loss 1.9685231 ; accuracy 0.5549667\n",
      "epoch 20 : loss 1.9643503 ; accuracy 0.55873334\n",
      "epoch 21 : loss 1.9601871 ; accuracy 0.56185\n",
      "epoch 22 : loss 1.9560333 ; accuracy 0.5653833\n",
      "epoch 23 : loss 1.9518884 ; accuracy 0.56843334\n",
      "epoch 24 : loss 1.9477525 ; accuracy 0.57173336\n",
      "epoch 25 : loss 1.9436256 ; accuracy 0.57523334\n",
      "epoch 26 : loss 1.9395071 ; accuracy 0.57825\n",
      "epoch 27 : loss 1.9353976 ; accuracy 0.5813\n",
      "epoch 28 : loss 1.9312961 ; accuracy 0.5836333\n",
      "epoch 29 : loss 1.9272032 ; accuracy 0.58645\n",
      "epoch 30 : loss 1.9231186 ; accuracy 0.58928335\n",
      "epoch 31 : loss 1.9190422 ; accuracy 0.59201664\n",
      "epoch 32 : loss 1.9149736 ; accuracy 0.59463334\n",
      "epoch 33 : loss 1.910913 ; accuracy 0.5970167\n",
      "epoch 34 : loss 1.9068601 ; accuracy 0.59975\n",
      "epoch 35 : loss 1.9028151 ; accuracy 0.60226667\n",
      "epoch 36 : loss 1.8987778 ; accuracy 0.6045667\n",
      "epoch 37 : loss 1.8947482 ; accuracy 0.60688335\n",
      "epoch 38 : loss 1.890726 ; accuracy 0.6088167\n",
      "epoch 39 : loss 1.8867112 ; accuracy 0.61088336\n",
      "epoch 40 : loss 1.8827038 ; accuracy 0.61293334\n",
      "epoch 41 : loss 1.8787038 ; accuracy 0.6149833\n",
      "epoch 42 : loss 1.8747109 ; accuracy 0.6170667\n",
      "epoch 43 : loss 1.8707253 ; accuracy 0.61918336\n",
      "epoch 44 : loss 1.8667469 ; accuracy 0.62126666\n",
      "epoch 45 : loss 1.8627758 ; accuracy 0.62331665\n",
      "epoch 46 : loss 1.8588115 ; accuracy 0.62515\n",
      "epoch 47 : loss 1.8548545 ; accuracy 0.6272\n",
      "epoch 48 : loss 1.850904 ; accuracy 0.6292167\n",
      "epoch 49 : loss 1.8469609 ; accuracy 0.63068336\n",
      "test loss 1.8391496 ; accuracy 0.6342\n"
     ]
    }
   ],
   "source": [
    "train_data, test_data = mnist_dataset()\n",
    "for epoch in range(50):\n",
    "    loss, accuracy = train_one_step(model, optimizer, \n",
    "                                    tf.constant(train_data[0], dtype=tf.float32), \n",
    "                                    tf.constant(train_data[1], dtype=tf.int64))\n",
    "    print('epoch', epoch, ': loss', loss.numpy(), '; accuracy', accuracy.numpy())\n",
    "loss, accuracy = test(model, \n",
    "                      tf.constant(test_data[0], dtype=tf.float32), \n",
    "                      tf.constant(test_data[1], dtype=tf.int64))\n",
    "\n",
    "print('test loss', loss.numpy(), '; accuracy', accuracy.numpy())"
   ]
  }
 ],
 "metadata": {
  "kernelspec": {
   "display_name": "Python 3",
   "language": "python",
   "name": "python3"
  },
  "language_info": {
   "codemirror_mode": {
    "name": "ipython",
    "version": 3
   },
   "file_extension": ".py",
   "mimetype": "text/x-python",
   "name": "python",
   "nbconvert_exporter": "python",
   "pygments_lexer": "ipython3",
   "version": "3.8.3"
  }
 },
 "nbformat": 4,
 "nbformat_minor": 4
}
